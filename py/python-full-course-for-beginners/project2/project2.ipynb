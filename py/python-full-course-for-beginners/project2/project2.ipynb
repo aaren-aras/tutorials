{
 "cells": [
  {
   "cell_type": "code",
   "execution_count": 1,
   "id": "3746cfe8",
   "metadata": {},
   "outputs": [],
   "source": [
    "# Mosh's Step-by-Step Guide to Machine Learning:\n",
    "# (1) Import the data (typically a .csv file)\n",
    "# (2) Clean the data (e.g., removing duplicated, irrelevant, and/or incomplete data)\n",
    "# (3) Split data into TWO sets——one for training (80%), and one for testing (20%)——to ensure model produces intended results\n",
    "# (4) Build a ML model using ML algorithms (e.g., decision trees, neural networks, ...)\n",
    "# (5) Train the model (with training data)\n",
    "# (6) Test the Model (with testing data)\n",
    "# (7) Evaluate and improve the model using its predictions from (6) (e.g., different algorithm, fine-tune parameters, ...)\n",
    "\n",
    "# {1} Model Persistence: Trained models can be saved to files, then uploaded later for use w/o retraining it\n",
    "# {2} "
   ]
  },
  {
   "cell_type": "code",
   "execution_count": 2,
   "id": "46cbecee",
   "metadata": {},
   "outputs": [],
   "source": [
    "import pandas as pd\n",
    "from sklearn.model_selection import train_test_split # Using split function from sci-kit learn library for (3)\n",
    "from sklearn.tree import DecisionTreeClassifier # Using the decision tree algorithm from sci-kit learn library for (4)\n",
    "from sklearn.metrics import accuracy_score # Calculates accuracy for (7)\n",
    "\n",
    "import joblib # joblib has a range of methods for saving and loading pre-existing models for {1}\n",
    "\n",
    "from sklearn import tree # Contains methods for visualizing decision trees"
   ]
  },
  {
   "cell_type": "code",
   "execution_count": 3,
   "id": "6da31473",
   "metadata": {},
   "outputs": [
    {
     "data": {
      "text/html": [
       "<div>\n",
       "<style scoped>\n",
       "    .dataframe tbody tr th:only-of-type {\n",
       "        vertical-align: middle;\n",
       "    }\n",
       "\n",
       "    .dataframe tbody tr th {\n",
       "        vertical-align: top;\n",
       "    }\n",
       "\n",
       "    .dataframe thead th {\n",
       "        text-align: right;\n",
       "    }\n",
       "</style>\n",
       "<table border=\"1\" class=\"dataframe\">\n",
       "  <thead>\n",
       "    <tr style=\"text-align: right;\">\n",
       "      <th></th>\n",
       "      <th>age</th>\n",
       "      <th>gender</th>\n",
       "      <th>genre</th>\n",
       "    </tr>\n",
       "  </thead>\n",
       "  <tbody>\n",
       "    <tr>\n",
       "      <th>0</th>\n",
       "      <td>20</td>\n",
       "      <td>1</td>\n",
       "      <td>HipHop</td>\n",
       "    </tr>\n",
       "    <tr>\n",
       "      <th>1</th>\n",
       "      <td>23</td>\n",
       "      <td>1</td>\n",
       "      <td>HipHop</td>\n",
       "    </tr>\n",
       "    <tr>\n",
       "      <th>2</th>\n",
       "      <td>25</td>\n",
       "      <td>1</td>\n",
       "      <td>HipHop</td>\n",
       "    </tr>\n",
       "    <tr>\n",
       "      <th>3</th>\n",
       "      <td>26</td>\n",
       "      <td>1</td>\n",
       "      <td>Jazz</td>\n",
       "    </tr>\n",
       "    <tr>\n",
       "      <th>4</th>\n",
       "      <td>29</td>\n",
       "      <td>1</td>\n",
       "      <td>Jazz</td>\n",
       "    </tr>\n",
       "    <tr>\n",
       "      <th>5</th>\n",
       "      <td>30</td>\n",
       "      <td>1</td>\n",
       "      <td>Jazz</td>\n",
       "    </tr>\n",
       "    <tr>\n",
       "      <th>6</th>\n",
       "      <td>31</td>\n",
       "      <td>1</td>\n",
       "      <td>Classical</td>\n",
       "    </tr>\n",
       "    <tr>\n",
       "      <th>7</th>\n",
       "      <td>33</td>\n",
       "      <td>1</td>\n",
       "      <td>Classical</td>\n",
       "    </tr>\n",
       "    <tr>\n",
       "      <th>8</th>\n",
       "      <td>37</td>\n",
       "      <td>1</td>\n",
       "      <td>Classical</td>\n",
       "    </tr>\n",
       "    <tr>\n",
       "      <th>9</th>\n",
       "      <td>20</td>\n",
       "      <td>0</td>\n",
       "      <td>Dance</td>\n",
       "    </tr>\n",
       "    <tr>\n",
       "      <th>10</th>\n",
       "      <td>21</td>\n",
       "      <td>0</td>\n",
       "      <td>Dance</td>\n",
       "    </tr>\n",
       "    <tr>\n",
       "      <th>11</th>\n",
       "      <td>25</td>\n",
       "      <td>0</td>\n",
       "      <td>Dance</td>\n",
       "    </tr>\n",
       "    <tr>\n",
       "      <th>12</th>\n",
       "      <td>26</td>\n",
       "      <td>0</td>\n",
       "      <td>Acoustic</td>\n",
       "    </tr>\n",
       "    <tr>\n",
       "      <th>13</th>\n",
       "      <td>27</td>\n",
       "      <td>0</td>\n",
       "      <td>Acoustic</td>\n",
       "    </tr>\n",
       "    <tr>\n",
       "      <th>14</th>\n",
       "      <td>30</td>\n",
       "      <td>0</td>\n",
       "      <td>Acoustic</td>\n",
       "    </tr>\n",
       "    <tr>\n",
       "      <th>15</th>\n",
       "      <td>31</td>\n",
       "      <td>0</td>\n",
       "      <td>Classical</td>\n",
       "    </tr>\n",
       "    <tr>\n",
       "      <th>16</th>\n",
       "      <td>34</td>\n",
       "      <td>0</td>\n",
       "      <td>Classical</td>\n",
       "    </tr>\n",
       "    <tr>\n",
       "      <th>17</th>\n",
       "      <td>35</td>\n",
       "      <td>0</td>\n",
       "      <td>Classical</td>\n",
       "    </tr>\n",
       "  </tbody>\n",
       "</table>\n",
       "</div>"
      ],
      "text/plain": [
       "    age  gender      genre\n",
       "0    20       1     HipHop\n",
       "1    23       1     HipHop\n",
       "2    25       1     HipHop\n",
       "3    26       1       Jazz\n",
       "4    29       1       Jazz\n",
       "5    30       1       Jazz\n",
       "6    31       1  Classical\n",
       "7    33       1  Classical\n",
       "8    37       1  Classical\n",
       "9    20       0      Dance\n",
       "10   21       0      Dance\n",
       "11   25       0      Dance\n",
       "12   26       0   Acoustic\n",
       "13   27       0   Acoustic\n",
       "14   30       0   Acoustic\n",
       "15   31       0  Classical\n",
       "16   34       0  Classical\n",
       "17   35       0  Classical"
      ]
     },
     "execution_count": 3,
     "metadata": {},
     "output_type": "execute_result"
    }
   ],
   "source": [
    "music_data = pd.read_csv(\"music.csv\") # (1)\n",
    "music_data\n",
    "# Skipping (2) b/c not needed in this scenario"
   ]
  },
  {
   "cell_type": "code",
   "execution_count": 4,
   "id": "63e2a33d",
   "metadata": {},
   "outputs": [
    {
     "data": {
      "text/plain": [
       "(    age  gender\n",
       " 0    20       1\n",
       " 1    23       1\n",
       " 2    25       1\n",
       " 3    26       1\n",
       " 4    29       1\n",
       " 5    30       1\n",
       " 6    31       1\n",
       " 7    33       1\n",
       " 8    37       1\n",
       " 9    20       0\n",
       " 10   21       0\n",
       " 11   25       0\n",
       " 12   26       0\n",
       " 13   27       0\n",
       " 14   30       0\n",
       " 15   31       0\n",
       " 16   34       0\n",
       " 17   35       0,\n",
       " 0        HipHop\n",
       " 1        HipHop\n",
       " 2        HipHop\n",
       " 3          Jazz\n",
       " 4          Jazz\n",
       " 5          Jazz\n",
       " 6     Classical\n",
       " 7     Classical\n",
       " 8     Classical\n",
       " 9         Dance\n",
       " 10        Dance\n",
       " 11        Dance\n",
       " 12     Acoustic\n",
       " 13     Acoustic\n",
       " 14     Acoustic\n",
       " 15    Classical\n",
       " 16    Classical\n",
       " 17    Classical\n",
       " Name: genre, dtype: object)"
      ]
     },
     "execution_count": 4,
     "metadata": {},
     "output_type": "execute_result"
    }
   ],
   "source": [
    "# Let \"age\" and \"gender\" be the input sets (what model uses; X), and \"genre\" be the output set (what model predicts; y) (3)\n",
    "X = music_data.drop(columns=[\"genre\"]) # Creates new data set w/o \"genre\" column w/o affecting original data \n",
    "y = music_data[\"genre\"]\n",
    "# Split function returns a tuple, so we can unpack into several variables ({2} 2:15:34)\n",
    "X_train, X_test, y_train, y_test = train_test_split(X, y, test_size=0.2) # Allocating 20% of original data for testing; (3)\n",
    "\n",
    "X, y"
   ]
  },
  {
   "cell_type": "code",
   "execution_count": 9,
   "id": "593907a3",
   "metadata": {},
   "outputs": [
    {
     "data": {
      "text/plain": [
       "array(['Classical', 'Classical', 'Classical', 'Jazz'], dtype=object)"
      ]
     },
     "execution_count": 9,
     "metadata": {},
     "output_type": "execute_result"
    }
   ],
   "source": [
    "model = DecisionTreeClassifier() # (4) \n",
    "model.fit(X_train.values, y_train.values) # Input (X) and output (y) sets; if \".values\" not appended, then UserWarning; (5)\n",
    "# predictions = model.predict([[21, 1], [22, 0]]) # [21, 1] = 21-year-old male; [22, 0] = 22-year-old female; (6)\n",
    "predictions = model.predict(X_test.values)\n",
    "predictions # Model correctly guesses that 21-year-old male should like \"HipHop\" and 22-year-old female should like \"Dance\""
   ]
  },
  {
   "cell_type": "code",
   "execution_count": 6,
   "id": "4f82f1f8",
   "metadata": {},
   "outputs": [
    {
     "data": {
      "text/plain": [
       "1.0"
      ]
     },
     "execution_count": 6,
     "metadata": {},
     "output_type": "execute_result"
    }
   ],
   "source": [
    "score = accuracy_score(y_test, predictions) # Compares expected (actual) values from data set with model's predicted values\n",
    "score # Returns number between 0 and 1 inclusive\n",
    "# Greater quality and quantity of data = Greater accuracy\n",
    "# More training data over testing data = Greater accuracy"
   ]
  },
  {
   "cell_type": "code",
   "execution_count": 7,
   "id": "00ed6263",
   "metadata": {},
   "outputs": [],
   "source": [
    "# {1}\n",
    "joblib.dump(model, \"music-recommender.joblib\") # Download model and give a file name\n",
    "old_model = joblib.load(\"music-recommender.joblib\") # Upload dumped model back onto Jupyter Notebook"
   ]
  },
  {
   "cell_type": "code",
   "execution_count": 8,
   "id": "8231acd2",
   "metadata": {},
   "outputs": [],
   "source": [
    "# {2}\n",
    "tree.export_graphviz(model, out_file=\"music-recommender.dot\", # DOT is a graph description language \n",
    "                    feature_names=[\"age\", \"gender\"],  # Decisive rules of nodes \n",
    "                    # Values repeat and are unalphabetized, so use sorted() and unique()\n",
    "                     class_names=sorted(y.unique()), # Classes = output values, so let = y \n",
    "                     label=\"all\", #\n",
    "                     rounded=\"True\", # Gives nodes rounded corners \n",
    "                     filled=\"True\") # Fills nodes with colour\n"
   ]
  },
  {
   "cell_type": "code",
   "execution_count": null,
   "id": "194f970a",
   "metadata": {},
   "outputs": [],
   "source": []
  }
 ],
 "metadata": {
  "kernelspec": {
   "display_name": "Python 3 (ipykernel)",
   "language": "python",
   "name": "python3"
  },
  "language_info": {
   "codemirror_mode": {
    "name": "ipython",
    "version": 3
   },
   "file_extension": ".py",
   "mimetype": "text/x-python",
   "name": "python",
   "nbconvert_exporter": "python",
   "pygments_lexer": "ipython3",
   "version": "3.10.7"
  }
 },
 "nbformat": 4,
 "nbformat_minor": 5
}
